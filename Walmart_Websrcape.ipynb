{
 "cells": [
  {
   "cell_type": "markdown",
   "metadata": {},
   "source": [
    "### Walmart Webscraping"
   ]
  },
  {
   "cell_type": "markdown",
   "metadata": {},
   "source": [
    "# Importing required packages"
   ]
  },
  {
   "cell_type": "code",
   "execution_count": 1,
   "metadata": {},
   "outputs": [],
   "source": [
    "import requests\n",
    "from bs4 import BeautifulSoup\n",
    "import pandas as pd"
   ]
  },
  {
   "cell_type": "markdown",
   "metadata": {},
   "source": [
    "### Hitting the website link from where the information needs to be scraped"
   ]
  },
  {
   "cell_type": "code",
   "execution_count": 2,
   "metadata": {},
   "outputs": [],
   "source": [
    "response = requests.get('https://www.walmart.com/search/?query=bath%20and%20body%20works%20body%20mist&cat_id=1085666&typeahead=bath%20and%20bod')"
   ]
  },
  {
   "cell_type": "markdown",
   "metadata": {},
   "source": [
    "### Using beautiful soup to convert the content from the above information into a readable format"
   ]
  },
  {
   "cell_type": "code",
   "execution_count": 3,
   "metadata": {},
   "outputs": [],
   "source": [
    "soup = BeautifulSoup(response.content, 'html.parser')"
   ]
  },
  {
   "cell_type": "markdown",
   "metadata": {},
   "source": [
    "### Finding the related information from the html id"
   ]
  },
  {
   "cell_type": "code",
   "execution_count": 4,
   "metadata": {},
   "outputs": [],
   "source": [
    "# Get the product search result\n",
    "psearch = soup.find(id='searchProductResult')"
   ]
  },
  {
   "cell_type": "code",
   "execution_count": 5,
   "metadata": {},
   "outputs": [],
   "source": [
    "# Finding all the external links in the search catalog\n",
    "out1 = psearch.find_all(href=True)    "
   ]
  },
  {
   "cell_type": "code",
   "execution_count": 6,
   "metadata": {},
   "outputs": [],
   "source": [
    "# Fetch the product description, image reference and product link\n",
    "cnt = 0\n",
    "prod_desc = []\n",
    "prod_img = []\n",
    "prod_link = []\n",
    "while(cnt < len(out1)):\n",
    "    prod_img.append(out1[cnt].find('img')['data-image-src'])\n",
    "    prod_desc.append(out1[cnt].find('img', alt=True)['alt'])\n",
    "    prod_link.append('https://walmart.com' + out1[cnt]['href'])\n",
    "    cnt += 3"
   ]
  },
  {
   "cell_type": "code",
   "execution_count": 7,
   "metadata": {},
   "outputs": [],
   "source": [
    "#Create a brand variable\n",
    "prod_brand = []\n",
    "for item in prod_desc:\n",
    "    if 'Bath' in item and 'Body' in item and 'Works' in item:\n",
    "        prod_brand.append(\"Bath & Body Works\")\n",
    "    else:\n",
    "        prod_brand.append(\"NA\")"
   ]
  },
  {
   "cell_type": "code",
   "execution_count": 8,
   "metadata": {},
   "outputs": [],
   "source": [
    "# Fetch the relevant attributes from the product\n",
    "prod_attributes = []\n",
    "for item in prod_desc:\n",
    "    temp = item.split('Works')[1].split(\" \")\n",
    "    cnt = 0\n",
    "    attr_string = \"\"\n",
    "    for attr in temp:\n",
    "        if len(attr) > 1 and attr.isalpha() and attr not in ('oz', 'At', 'The', 'for'):\n",
    "            attr_string += \",\" + attr\n",
    "        cnt += 1\n",
    "        if cnt > 4:\n",
    "            break\n",
    "    prod_attributes.append(attr_string[1:])"
   ]
  },
  {
   "cell_type": "code",
   "execution_count": 9,
   "metadata": {},
   "outputs": [
    {
     "data": {
      "text/plain": [
       "['Women',\n",
       " 'Warm,Vanilla,Sugar,Fine',\n",
       " 'Georgia,Peach,Sweet',\n",
       " 'Paris,Amour,Fine,Fragrance',\n",
       " 'Champagne,Apple,Honey',\n",
       " 'Fine,Fragrance,Mist',\n",
       " 'Fine,Fragrance,Dark',\n",
       " 'Sweet,Pea',\n",
       " 'Signature,Collection,Fragrance,Mist',\n",
       " 'Twilight,Woods']"
      ]
     },
     "execution_count": 9,
     "metadata": {},
     "output_type": "execute_result"
    }
   ],
   "source": [
    "#looking at product attributes\n",
    "prod_attributes"
   ]
  },
  {
   "cell_type": "code",
   "execution_count": 10,
   "metadata": {},
   "outputs": [],
   "source": [
    "# Fetch the quantity of the product (in oz)\n",
    "prod_quantity = []\n",
    "for item in prod_desc:\n",
    "    if '8' in item:\n",
    "        prod_quantity.append(8.0)\n",
    "    else:\n",
    "        prod_quantity.append(4.9)"
   ]
  },
  {
   "cell_type": "code",
   "execution_count": 11,
   "metadata": {},
   "outputs": [],
   "source": [
    "# Fetching Product reviews \n",
    "out2 = psearch.find_all('div', 'search-result-product-rating')\n",
    "cust_reviews = []\n",
    "review_links = []\n",
    "for item in out2:\n",
    "    review_links.append(item.find('div', 'stars').find(href=True)['href'])\n",
    "    cust_reviews.append(item.find('div', 'stars').text)"
   ]
  },
  {
   "cell_type": "code",
   "execution_count": 12,
   "metadata": {},
   "outputs": [
    {
     "data": {
      "text/plain": [
       "['Average rating:4out of5stars, based on7reviews7ratings',\n",
       " 'Average rating:0out of5stars, based on0reviews',\n",
       " 'Average rating:0out of5stars, based on0reviews',\n",
       " 'Average rating:0out of5stars, based on0reviews',\n",
       " 'Average rating:0out of5stars, based on0reviews',\n",
       " 'Average rating:0out of5stars, based on0reviews',\n",
       " 'Average rating:0out of5stars, based on0reviews',\n",
       " 'Average rating:0out of5stars, based on0reviews',\n",
       " 'Average rating:0out of5stars, based on0reviews',\n",
       " 'Average rating:3out of5stars, based on1reviews1ratings']"
      ]
     },
     "execution_count": 12,
     "metadata": {},
     "output_type": "execute_result"
    }
   ],
   "source": [
    "#looking at customer reviews\n",
    "cust_reviews"
   ]
  },
  {
   "cell_type": "code",
   "execution_count": 13,
   "metadata": {},
   "outputs": [],
   "source": [
    "# Extract ratings and number of reviews\n",
    "rating_out_of_5 = []\n",
    "no_of_reviews = []\n",
    "for item in cust_reviews:\n",
    "    rating_out_of_5.append(int(item.split(\":\")[1][:1])) \n",
    "    no_of_reviews.append(int(item.split(\" on\")[1][:1]))"
   ]
  },
  {
   "cell_type": "code",
   "execution_count": 14,
   "metadata": {},
   "outputs": [],
   "source": [
    "# Product price information\n",
    "plist = psearch.find_all('div', 'product-price-with-fulfillment')"
   ]
  },
  {
   "cell_type": "code",
   "execution_count": 15,
   "metadata": {},
   "outputs": [
    {
     "data": {
      "text/plain": [
       "'Free delivery'"
      ]
     },
     "execution_count": 15,
     "metadata": {},
     "output_type": "execute_result"
    }
   ],
   "source": [
    "# Shipping information of a product\n",
    "plist[0].find('div', 'free-shipping').text"
   ]
  },
  {
   "cell_type": "code",
   "execution_count": 16,
   "metadata": {},
   "outputs": [],
   "source": [
    "# Other attributes of the product such as price, merchant sold by, currency type, type of delivery\n",
    "\n",
    "prod_price = []\n",
    "sold_by = []\n",
    "prod_currency = []\n",
    "delivery_type = []\n",
    "for item in plist:\n",
    "    prod_price.append(float(item.find_all('span', attrs={'class': 'visuallyhidden'})[1].text[1:]))\n",
    "    sold_by.append(item.find_all('span', attrs={'class': 'marketplace-sold-by-company-name'})[0].text)\n",
    "    if item.find('div', 'free-shipping'):\n",
    "        delivery_type.append(item.find('div', 'free-shipping').text)\n",
    "    else:\n",
    "        delivery_type.append('Paid Delivery')\n",
    "    if item.find_all('span', attrs={'class': 'price-currency'})[0].text == '$':\n",
    "        prod_currency.append('USD')"
   ]
  },
  {
   "cell_type": "code",
   "execution_count": 17,
   "metadata": {},
   "outputs": [],
   "source": [
    "#creating variables\n",
    "prod_dict = {'prod-desc': {}} "
   ]
  },
  {
   "cell_type": "code",
   "execution_count": 18,
   "metadata": {},
   "outputs": [
    {
     "data": {
      "text/plain": [
       "'Reduced Price'"
      ]
     },
     "execution_count": 18,
     "metadata": {},
     "output_type": "execute_result"
    }
   ],
   "source": [
    "#searching for price description to provide information on the cost\n",
    "psearch.find_all('div', 'search-result-gridview-item')[2].find('div', class_='prod-FlagList-container').text"
   ]
  },
  {
   "cell_type": "code",
   "execution_count": 19,
   "metadata": {},
   "outputs": [],
   "source": [
    "# Normal price vs price reduced\n",
    "\n",
    "prod_price_reduced = []\n",
    "for item in psearch.find_all('div', 'search-result-gridview-item'):\n",
    "    if item.find('div', class_='prod-FlagList-container'):\n",
    "        prod_price_reduced.append(item.find('div', class_='prod-FlagList-container').text)\n",
    "    else:\n",
    "        prod_price_reduced.append('Normal price')"
   ]
  },
  {
   "cell_type": "code",
   "execution_count": 20,
   "metadata": {},
   "outputs": [
    {
     "data": {
      "text/plain": [
       "['Normal price',\n",
       " 'Normal price',\n",
       " 'Reduced Price',\n",
       " 'Normal price',\n",
       " 'Reduced Price',\n",
       " 'Normal price',\n",
       " 'Normal price',\n",
       " 'Normal price',\n",
       " 'Reduced Price',\n",
       " 'Normal price']"
      ]
     },
     "execution_count": 20,
     "metadata": {},
     "output_type": "execute_result"
    }
   ],
   "source": [
    "#looking at variables to see if code worked\n",
    "prod_price_reduced"
   ]
  },
  {
   "cell_type": "code",
   "execution_count": 21,
   "metadata": {},
   "outputs": [],
   "source": [
    "#Cleaning data\n",
    "product_ids = [i.split(\"/\")[-1].split(\"#\")[0] for i in review_links]"
   ]
  },
  {
   "cell_type": "code",
   "execution_count": 22,
   "metadata": {},
   "outputs": [],
   "source": [
    "#Removing Bath & Body Works\n",
    "for i in range(0, len(prod_desc)):\n",
    "    prod_desc[i] = prod_desc[i].replace(\"Bath & Body Works\", '').replace(\"by\", '').replace(\"   \",'')\n",
    "\n",
    "Description = prod_desc"
   ]
  },
  {
   "cell_type": "code",
   "execution_count": 23,
   "metadata": {},
   "outputs": [],
   "source": [
    "#Creating a dataframe\n",
    "df = pd.DataFrame.from_dict({ 'Product Id' : product_ids,\n",
    "                            'Description':prod_desc,\n",
    "                             'Brand' : prod_brand,\n",
    "                             'Price': prod_price,\n",
    "                             'Price_Type': prod_price_reduced,\n",
    "                             'Currency': prod_currency,\n",
    "                             'Product_qty_in_oz' : prod_quantity,\n",
    "                             'Product_Attributes' : prod_attributes,\n",
    "                             'Sold By': sold_by,\n",
    "                             'Delivery Type': delivery_type,\n",
    "                             'Product Link': prod_link,\n",
    "                             'Product Image Link': prod_img,\n",
    "                             'Rating_out_of_5' : rating_out_of_5,\n",
    "                             'Number_of_reviews' : no_of_reviews,\n",
    "                             'Review Links': review_links,})"
   ]
  },
  {
   "cell_type": "markdown",
   "metadata": {},
   "source": [
    "# printing it in a proper dataframe"
   ]
  },
  {
   "cell_type": "code",
   "execution_count": 24,
   "metadata": {},
   "outputs": [
    {
     "data": {
      "text/html": [
       "<div>\n",
       "<style scoped>\n",
       "    .dataframe tbody tr th:only-of-type {\n",
       "        vertical-align: middle;\n",
       "    }\n",
       "\n",
       "    .dataframe tbody tr th {\n",
       "        vertical-align: top;\n",
       "    }\n",
       "\n",
       "    .dataframe thead th {\n",
       "        text-align: right;\n",
       "    }\n",
       "</style>\n",
       "<table border=\"1\" class=\"dataframe\">\n",
       "  <thead>\n",
       "    <tr style=\"text-align: right;\">\n",
       "      <th></th>\n",
       "      <th>Product Id</th>\n",
       "      <th>Description</th>\n",
       "      <th>Brand</th>\n",
       "      <th>Price</th>\n",
       "      <th>Price_Type</th>\n",
       "      <th>Currency</th>\n",
       "      <th>Product_qty_in_oz</th>\n",
       "      <th>Product_Attributes</th>\n",
       "      <th>Sold By</th>\n",
       "      <th>Delivery Type</th>\n",
       "      <th>Product Link</th>\n",
       "      <th>Product Image Link</th>\n",
       "      <th>Rating_out_of_5</th>\n",
       "      <th>Number_of_reviews</th>\n",
       "      <th>Review Links</th>\n",
       "    </tr>\n",
       "  </thead>\n",
       "  <tbody>\n",
       "    <tr>\n",
       "      <th>0</th>\n",
       "      <td>148116836</td>\n",
       "      <td>A Thousand Wishesfor Women - 8 oz Fine Fragran...</td>\n",
       "      <td>Bath &amp; Body Works</td>\n",
       "      <td>12.65</td>\n",
       "      <td>Normal price</td>\n",
       "      <td>USD</td>\n",
       "      <td>8.0</td>\n",
       "      <td>Women</td>\n",
       "      <td>VivaBella</td>\n",
       "      <td>Free delivery</td>\n",
       "      <td>https://walmart.com/ip/A-Thousand-Wishes-by-Ba...</td>\n",
       "      <td>https://i5.walmartimages.com/asr/ecdd0f7c-6f4f...</td>\n",
       "      <td>4</td>\n",
       "      <td>7</td>\n",
       "      <td>/ip/A-Thousand-Wishes-by-Bath-Body-Works-for-W...</td>\n",
       "    </tr>\n",
       "    <tr>\n",
       "      <th>1</th>\n",
       "      <td>515406751</td>\n",
       "      <td>Warm Vanilla Sugar Fine Fragrance Mist For Wo...</td>\n",
       "      <td>Bath &amp; Body Works</td>\n",
       "      <td>12.65</td>\n",
       "      <td>Normal price</td>\n",
       "      <td>USD</td>\n",
       "      <td>8.0</td>\n",
       "      <td>Warm,Vanilla,Sugar,Fine</td>\n",
       "      <td>VivaBella</td>\n",
       "      <td>Free delivery</td>\n",
       "      <td>https://walmart.com/ip/Bath-Body-Works-Warm-Va...</td>\n",
       "      <td>https://i5.walmartimages.com/asr/8cb72467-9319...</td>\n",
       "      <td>0</td>\n",
       "      <td>0</td>\n",
       "      <td>/ip/Bath-Body-Works-Warm-Vanilla-Sugar-Fine-Fr...</td>\n",
       "    </tr>\n",
       "    <tr>\n",
       "      <th>2</th>\n",
       "      <td>797145954</td>\n",
       "      <td>Georgia Peach &amp; Sweet Tea 8.0 oz Fine Fragran...</td>\n",
       "      <td>Bath &amp; Body Works</td>\n",
       "      <td>11.01</td>\n",
       "      <td>Reduced Price</td>\n",
       "      <td>USD</td>\n",
       "      <td>8.0</td>\n",
       "      <td>Georgia,Peach,Sweet</td>\n",
       "      <td>Beauty Encounter</td>\n",
       "      <td>Free delivery</td>\n",
       "      <td>https://walmart.com/ip/Bath-Body-Works-Georgia...</td>\n",
       "      <td>https://i5.walmartimages.com/asr/6938797c-e534...</td>\n",
       "      <td>0</td>\n",
       "      <td>0</td>\n",
       "      <td>/ip/Bath-Body-Works-Georgia-Peach-Sweet-Tea-8-...</td>\n",
       "    </tr>\n",
       "    <tr>\n",
       "      <th>3</th>\n",
       "      <td>851317757</td>\n",
       "      <td>Paris Amour Fine Fragrance Mist 8 oz (New Look)</td>\n",
       "      <td>Bath &amp; Body Works</td>\n",
       "      <td>15.82</td>\n",
       "      <td>Normal price</td>\n",
       "      <td>USD</td>\n",
       "      <td>8.0</td>\n",
       "      <td>Paris,Amour,Fine,Fragrance</td>\n",
       "      <td>AMI Ventures Inc</td>\n",
       "      <td>Free delivery</td>\n",
       "      <td>https://walmart.com/ip/Bath-Body-Works-Paris-A...</td>\n",
       "      <td>https://i5.walmartimages.com/asr/b8066280-b2e1...</td>\n",
       "      <td>0</td>\n",
       "      <td>0</td>\n",
       "      <td>/ip/Bath-Body-Works-Paris-Amour-Fine-Fragrance...</td>\n",
       "    </tr>\n",
       "    <tr>\n",
       "      <th>4</th>\n",
       "      <td>285320769</td>\n",
       "      <td>Champagne Apple &amp; Honey 4.9 oz Illuminating F...</td>\n",
       "      <td>Bath &amp; Body Works</td>\n",
       "      <td>14.49</td>\n",
       "      <td>Reduced Price</td>\n",
       "      <td>USD</td>\n",
       "      <td>4.9</td>\n",
       "      <td>Champagne,Apple,Honey</td>\n",
       "      <td>Beauty Encounter</td>\n",
       "      <td>Free delivery</td>\n",
       "      <td>https://walmart.com/ip/Bath-Body-Works-Champag...</td>\n",
       "      <td>https://i5.walmartimages.com/asr/9e00ab88-dd8a...</td>\n",
       "      <td>0</td>\n",
       "      <td>0</td>\n",
       "      <td>/ip/Bath-Body-Works-Champagne-Apple-Honey-4-9-...</td>\n",
       "    </tr>\n",
       "    <tr>\n",
       "      <th>5</th>\n",
       "      <td>144436548</td>\n",
       "      <td>Cucumber MelonFine Fragrance Mist 8 oz for Women</td>\n",
       "      <td>Bath &amp; Body Works</td>\n",
       "      <td>18.74</td>\n",
       "      <td>Normal price</td>\n",
       "      <td>USD</td>\n",
       "      <td>8.0</td>\n",
       "      <td>Fine,Fragrance,Mist</td>\n",
       "      <td>the amazin' jungle</td>\n",
       "      <td>Paid Delivery</td>\n",
       "      <td>https://walmart.com/ip/Cucumber-Melon-by-Bath-...</td>\n",
       "      <td>https://i5.walmartimages.com/asr/e1625a49-83cf...</td>\n",
       "      <td>0</td>\n",
       "      <td>0</td>\n",
       "      <td>/ip/Cucumber-Melon-by-Bath-Body-Works-Fine-Fra...</td>\n",
       "    </tr>\n",
       "    <tr>\n",
       "      <th>6</th>\n",
       "      <td>423380663</td>\n",
       "      <td>Bath and Body Works Fine Fragrance Mist, Dark ...</td>\n",
       "      <td>Bath &amp; Body Works</td>\n",
       "      <td>21.24</td>\n",
       "      <td>Normal price</td>\n",
       "      <td>USD</td>\n",
       "      <td>8.0</td>\n",
       "      <td>Fine,Fragrance,Dark</td>\n",
       "      <td>the amazin' jungle</td>\n",
       "      <td>Paid Delivery</td>\n",
       "      <td>https://walmart.com/ip/Bath-and-Body-Works-Fin...</td>\n",
       "      <td>https://i5.walmartimages.com/asr/b3d761b2-90b9...</td>\n",
       "      <td>0</td>\n",
       "      <td>0</td>\n",
       "      <td>/ip/Bath-and-Body-Works-Fine-Fragrance-Mist-Da...</td>\n",
       "    </tr>\n",
       "    <tr>\n",
       "      <th>7</th>\n",
       "      <td>574955735</td>\n",
       "      <td>Bath Body Works Sweet Pea 8.0 oz Fine Fragranc...</td>\n",
       "      <td>Bath &amp; Body Works</td>\n",
       "      <td>24.99</td>\n",
       "      <td>Normal price</td>\n",
       "      <td>USD</td>\n",
       "      <td>8.0</td>\n",
       "      <td>Sweet,Pea</td>\n",
       "      <td>the amazin' jungle</td>\n",
       "      <td>Paid Delivery</td>\n",
       "      <td>https://walmart.com/ip/Bath-Body-Works-Sweet-P...</td>\n",
       "      <td>https://i5.walmartimages.com/asr/fbf8164b-9aa3...</td>\n",
       "      <td>0</td>\n",
       "      <td>0</td>\n",
       "      <td>/ip/Bath-Body-Works-Sweet-Pea-8-0-oz-Fine-Frag...</td>\n",
       "    </tr>\n",
       "    <tr>\n",
       "      <th>8</th>\n",
       "      <td>983667229</td>\n",
       "      <td>Signature Collection Fragrance Mist Coconut L...</td>\n",
       "      <td>Bath &amp; Body Works</td>\n",
       "      <td>10.75</td>\n",
       "      <td>Reduced Price</td>\n",
       "      <td>USD</td>\n",
       "      <td>8.0</td>\n",
       "      <td>Signature,Collection,Fragrance,Mist</td>\n",
       "      <td>Beauty Encounter</td>\n",
       "      <td>Paid Delivery</td>\n",
       "      <td>https://walmart.com/ip/Bath-Body-Works-Signatu...</td>\n",
       "      <td>https://i5.walmartimages.com/asr/1250439e-043b...</td>\n",
       "      <td>0</td>\n",
       "      <td>0</td>\n",
       "      <td>/ip/Bath-Body-Works-Signature-Collection-Fragr...</td>\n",
       "    </tr>\n",
       "    <tr>\n",
       "      <th>9</th>\n",
       "      <td>352004376</td>\n",
       "      <td>Bath Body Works Twilight Woods 8.0 oz Fine Fra...</td>\n",
       "      <td>Bath &amp; Body Works</td>\n",
       "      <td>18.74</td>\n",
       "      <td>Normal price</td>\n",
       "      <td>USD</td>\n",
       "      <td>8.0</td>\n",
       "      <td>Twilight,Woods</td>\n",
       "      <td>the amazin' jungle</td>\n",
       "      <td>Free delivery</td>\n",
       "      <td>https://walmart.com/ip/Bath-Body-Works-Twiligh...</td>\n",
       "      <td>https://i5.walmartimages.com/asr/ca721ee3-f9a7...</td>\n",
       "      <td>3</td>\n",
       "      <td>1</td>\n",
       "      <td>/ip/Bath-Body-Works-Twilight-Woods-8-0-oz-Fine...</td>\n",
       "    </tr>\n",
       "  </tbody>\n",
       "</table>\n",
       "</div>"
      ],
      "text/plain": [
       "  Product Id                                        Description  \\\n",
       "0  148116836  A Thousand Wishesfor Women - 8 oz Fine Fragran...   \n",
       "1  515406751   Warm Vanilla Sugar Fine Fragrance Mist For Wo...   \n",
       "2  797145954   Georgia Peach & Sweet Tea 8.0 oz Fine Fragran...   \n",
       "3  851317757    Paris Amour Fine Fragrance Mist 8 oz (New Look)   \n",
       "4  285320769   Champagne Apple & Honey 4.9 oz Illuminating F...   \n",
       "5  144436548   Cucumber MelonFine Fragrance Mist 8 oz for Women   \n",
       "6  423380663  Bath and Body Works Fine Fragrance Mist, Dark ...   \n",
       "7  574955735  Bath Body Works Sweet Pea 8.0 oz Fine Fragranc...   \n",
       "8  983667229   Signature Collection Fragrance Mist Coconut L...   \n",
       "9  352004376  Bath Body Works Twilight Woods 8.0 oz Fine Fra...   \n",
       "\n",
       "               Brand  Price     Price_Type Currency  Product_qty_in_oz  \\\n",
       "0  Bath & Body Works  12.65   Normal price      USD                8.0   \n",
       "1  Bath & Body Works  12.65   Normal price      USD                8.0   \n",
       "2  Bath & Body Works  11.01  Reduced Price      USD                8.0   \n",
       "3  Bath & Body Works  15.82   Normal price      USD                8.0   \n",
       "4  Bath & Body Works  14.49  Reduced Price      USD                4.9   \n",
       "5  Bath & Body Works  18.74   Normal price      USD                8.0   \n",
       "6  Bath & Body Works  21.24   Normal price      USD                8.0   \n",
       "7  Bath & Body Works  24.99   Normal price      USD                8.0   \n",
       "8  Bath & Body Works  10.75  Reduced Price      USD                8.0   \n",
       "9  Bath & Body Works  18.74   Normal price      USD                8.0   \n",
       "\n",
       "                    Product_Attributes             Sold By  Delivery Type  \\\n",
       "0                                Women           VivaBella  Free delivery   \n",
       "1              Warm,Vanilla,Sugar,Fine           VivaBella  Free delivery   \n",
       "2                  Georgia,Peach,Sweet    Beauty Encounter  Free delivery   \n",
       "3           Paris,Amour,Fine,Fragrance    AMI Ventures Inc  Free delivery   \n",
       "4                Champagne,Apple,Honey    Beauty Encounter  Free delivery   \n",
       "5                  Fine,Fragrance,Mist  the amazin' jungle  Paid Delivery   \n",
       "6                  Fine,Fragrance,Dark  the amazin' jungle  Paid Delivery   \n",
       "7                            Sweet,Pea  the amazin' jungle  Paid Delivery   \n",
       "8  Signature,Collection,Fragrance,Mist    Beauty Encounter  Paid Delivery   \n",
       "9                       Twilight,Woods  the amazin' jungle  Free delivery   \n",
       "\n",
       "                                        Product Link  \\\n",
       "0  https://walmart.com/ip/A-Thousand-Wishes-by-Ba...   \n",
       "1  https://walmart.com/ip/Bath-Body-Works-Warm-Va...   \n",
       "2  https://walmart.com/ip/Bath-Body-Works-Georgia...   \n",
       "3  https://walmart.com/ip/Bath-Body-Works-Paris-A...   \n",
       "4  https://walmart.com/ip/Bath-Body-Works-Champag...   \n",
       "5  https://walmart.com/ip/Cucumber-Melon-by-Bath-...   \n",
       "6  https://walmart.com/ip/Bath-and-Body-Works-Fin...   \n",
       "7  https://walmart.com/ip/Bath-Body-Works-Sweet-P...   \n",
       "8  https://walmart.com/ip/Bath-Body-Works-Signatu...   \n",
       "9  https://walmart.com/ip/Bath-Body-Works-Twiligh...   \n",
       "\n",
       "                                  Product Image Link  Rating_out_of_5  \\\n",
       "0  https://i5.walmartimages.com/asr/ecdd0f7c-6f4f...                4   \n",
       "1  https://i5.walmartimages.com/asr/8cb72467-9319...                0   \n",
       "2  https://i5.walmartimages.com/asr/6938797c-e534...                0   \n",
       "3  https://i5.walmartimages.com/asr/b8066280-b2e1...                0   \n",
       "4  https://i5.walmartimages.com/asr/9e00ab88-dd8a...                0   \n",
       "5  https://i5.walmartimages.com/asr/e1625a49-83cf...                0   \n",
       "6  https://i5.walmartimages.com/asr/b3d761b2-90b9...                0   \n",
       "7  https://i5.walmartimages.com/asr/fbf8164b-9aa3...                0   \n",
       "8  https://i5.walmartimages.com/asr/1250439e-043b...                0   \n",
       "9  https://i5.walmartimages.com/asr/ca721ee3-f9a7...                3   \n",
       "\n",
       "   Number_of_reviews                                       Review Links  \n",
       "0                  7  /ip/A-Thousand-Wishes-by-Bath-Body-Works-for-W...  \n",
       "1                  0  /ip/Bath-Body-Works-Warm-Vanilla-Sugar-Fine-Fr...  \n",
       "2                  0  /ip/Bath-Body-Works-Georgia-Peach-Sweet-Tea-8-...  \n",
       "3                  0  /ip/Bath-Body-Works-Paris-Amour-Fine-Fragrance...  \n",
       "4                  0  /ip/Bath-Body-Works-Champagne-Apple-Honey-4-9-...  \n",
       "5                  0  /ip/Cucumber-Melon-by-Bath-Body-Works-Fine-Fra...  \n",
       "6                  0  /ip/Bath-and-Body-Works-Fine-Fragrance-Mist-Da...  \n",
       "7                  0  /ip/Bath-Body-Works-Sweet-Pea-8-0-oz-Fine-Frag...  \n",
       "8                  0  /ip/Bath-Body-Works-Signature-Collection-Fragr...  \n",
       "9                  1  /ip/Bath-Body-Works-Twilight-Woods-8-0-oz-Fine...  "
      ]
     },
     "execution_count": 24,
     "metadata": {},
     "output_type": "execute_result"
    }
   ],
   "source": [
    "df"
   ]
  },
  {
   "cell_type": "code",
   "execution_count": 25,
   "metadata": {},
   "outputs": [
    {
     "data": {
      "text/plain": [
       "(10, 15)"
      ]
     },
     "execution_count": 25,
     "metadata": {},
     "output_type": "execute_result"
    }
   ],
   "source": [
    "#Demonstating the success of obtaining 15 variables.\n",
    "df.shape"
   ]
  }
 ],
 "metadata": {
  "kernelspec": {
   "display_name": "Python 3",
   "language": "python",
   "name": "python3"
  },
  "language_info": {
   "codemirror_mode": {
    "name": "ipython",
    "version": 3
   },
   "file_extension": ".py",
   "mimetype": "text/x-python",
   "name": "python",
   "nbconvert_exporter": "python",
   "pygments_lexer": "ipython3",
   "version": "3.6.10"
  }
 },
 "nbformat": 4,
 "nbformat_minor": 2
}
