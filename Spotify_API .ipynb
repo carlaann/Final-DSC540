{
 "cells": [
  {
   "cell_type": "markdown",
   "metadata": {},
   "source": [
    "- Name: Carla Harrell\n",
    "- Course: DSC540\n",
    "- Assignment: Final \n",
    "- Date: 02-29-2020"
   ]
  },
  {
   "cell_type": "markdown",
   "metadata": {},
   "source": [
    "The following is due submitted to the assignment link or submit a link to your GitHub repository to the\n",
    "assignment link:\n",
    "\n",
    " Your formatted dataset with at least 15-20 variables (if the API or Webpage you selected doesn’t\n",
    "have that many fields available on it, you will want to search again, or do multiple!)\n",
    " Your code or screenshots of your code outlining the steps and process you had to take to pull\n",
    "data from the API or web page and the steps you took to format the data.\n",
    " 2 Data Transformation/Clean-up Steps (can be any that we learned in class)\n",
    " A 250-word paper summarizing your steps and any challenges you ran into during the project.\n",
    "\n",
    "Discuss the importance and relevance of this type of process if you were a data scientist. How\n",
    "often do you think you would have to do this to get the data you need?"
   ]
  },
  {
   "cell_type": "markdown",
   "metadata": {},
   "source": [
    "Before starting you should have two things done:\n",
    "\n",
    "1.Spotify API permissions & credentials that could apply in the next block of code. Simply log in, go to your “dashboard” and select “create client id”.\n",
    "\n",
    "2.Python module — spotipy — imported (you can download it using - \"pip install spotipy\")\n"
   ]
  },
  {
   "cell_type": "markdown",
   "metadata": {},
   "source": [
    "The API will extract data of Coldplay Artist from Spotify to include 15 variables pertaining to various songs and albums by this artist."
   ]
  },
  {
   "cell_type": "code",
   "execution_count": 21,
   "metadata": {},
   "outputs": [],
   "source": [
    "# This line keeps the code neat\n",
    "from IPython.core.interactiveshell import InteractiveShell\n",
    "InteractiveShell.ast_node_interactivity = \"all\""
   ]
  },
  {
   "cell_type": "code",
   "execution_count": 22,
   "metadata": {},
   "outputs": [
    {
     "data": {
      "text/plain": [
       "[{'external_urls': {'spotify': 'https://open.spotify.com/artist/69GGBxA162lTqCwzJG5jLp'},\n",
       "  'href': 'https://api.spotify.com/v1/artists/69GGBxA162lTqCwzJG5jLp',\n",
       "  'id': '69GGBxA162lTqCwzJG5jLp',\n",
       "  'name': 'The Chainsmokers',\n",
       "  'type': 'artist',\n",
       "  'uri': 'spotify:artist:69GGBxA162lTqCwzJG5jLp'},\n",
       " {'external_urls': {'spotify': 'https://open.spotify.com/artist/4gzpq5DPGxSnKTe4SA8HAU'},\n",
       "  'href': 'https://api.spotify.com/v1/artists/4gzpq5DPGxSnKTe4SA8HAU',\n",
       "  'id': '4gzpq5DPGxSnKTe4SA8HAU',\n",
       "  'name': 'Coldplay',\n",
       "  'type': 'artist',\n",
       "  'uri': 'spotify:artist:4gzpq5DPGxSnKTe4SA8HAU'}]"
      ]
     },
     "execution_count": 22,
     "metadata": {},
     "output_type": "execute_result"
    }
   ],
   "source": [
    "import spotipy\n",
    "import matplotlib.pyplot as plt\n",
    "\n",
    "from spotipy.oauth2 import SpotifyClientCredentials #To access authorised Spotify data\n",
    "client_id = ''#Enter client_id\n",
    "client_secret = ''#Enter client_secret\n",
    "client_credentials_manager = SpotifyClientCredentials(client_id=client_id, client_secret=client_secret)\n",
    "sp = spotipy.Spotify(client_credentials_manager=client_credentials_manager) #spotify object to access API\n",
    "name = \"{'Cold Play}\" #chosen artist\n",
    "result = sp.search(name) #search query\n",
    "result['tracks']['items'][0]['artists']"
   ]
  },
  {
   "cell_type": "code",
   "execution_count": 23,
   "metadata": {},
   "outputs": [
    {
     "data": {
      "text/plain": [
       "['World War Joy (Japan Edition)',\n",
       " 'World War Joy',\n",
       " 'Sick Boy (Special Edition)',\n",
       " 'Sick Boy',\n",
       " 'Memories...Do Not Open',\n",
       " 'The Chainsmokers- Japan Special Edition']"
      ]
     },
     "execution_count": 23,
     "metadata": {},
     "output_type": "execute_result"
    },
    {
     "data": {
      "text/plain": [
       "['spotify:album:3cbcpRK1paF6lAxd16cmIE',\n",
       " 'spotify:album:01GR4NL5O5CZM51k0aejKD',\n",
       " 'spotify:album:1AVNEke0ElkA1cekT0a1vO',\n",
       " 'spotify:album:6ZvDJs17O3woQirttKRYCG',\n",
       " 'spotify:album:4JPguzRps3kuWDD5GS6oXr',\n",
       " 'spotify:album:3ShQFl9FladFKlonwPGZFc']"
      ]
     },
     "execution_count": 23,
     "metadata": {},
     "output_type": "execute_result"
    }
   ],
   "source": [
    "#Extract Artist's uri\n",
    "artist_uri = result['tracks']['items'][0]['artists'][0]['uri']\n",
    "#Pull all of the artist's albums\n",
    "sp_albums = sp.artist_albums(artist_uri, album_type='album')\n",
    "#Store artist's albums' names' and uris in separate lists\n",
    "album_names = []\n",
    "album_uris = []\n",
    "for i in range(len(sp_albums['items'])):\n",
    "    album_names.append(sp_albums['items'][i]['name'])\n",
    "    album_uris.append(sp_albums['items'][i]['uri'])\n",
    "    \n",
    "album_names\n",
    "album_uris\n",
    "#Keep names and uris in same order to keep track of duplicate albums"
   ]
  },
  {
   "cell_type": "code",
   "execution_count": 24,
   "metadata": {},
   "outputs": [],
   "source": [
    "#Preparing variables to add to the dictionary\n",
    "def albumSongs(uri):\n",
    "    album = uri #assign album uri to a_name\n",
    "    \n",
    "    spotify_albums[album] = {} #Creates dictionary for that specific album\n",
    "#Create keys-values of empty lists inside nested dictionary for album\n",
    "    spotify_albums[album]['album'] = [] #create empty list\n",
    "    spotify_albums[album]['track_number'] = []\n",
    "    spotify_albums[album]['id'] = []\n",
    "    spotify_albums[album]['name'] = []\n",
    "    spotify_albums[album]['uri'] = []\n",
    "    tracks = sp.album_tracks(album) #pull data on album tracks\n",
    "    for n in range(len(tracks['items'])): #for each song track\n",
    "        spotify_albums[album]['album'].append(album_names[album_count]) #append album name tracked via album_count\n",
    "        spotify_albums[album]['track_number'].append(tracks['items'][n]['track_number'])\n",
    "        spotify_albums[album]['id'].append(tracks['items'][n]['id'])\n",
    "        spotify_albums[album]['name'].append(tracks['items'][n]['name'])\n",
    "        spotify_albums[album]['uri'].append(tracks['items'][n]['uri'])"
   ]
  },
  {
   "cell_type": "code",
   "execution_count": 25,
   "metadata": {},
   "outputs": [
    {
     "name": "stdout",
     "output_type": "stream",
     "text": [
      "Album World War Joy (Japan Edition) songs has been added to spotify_albums dictionary\n",
      "Album World War Joy songs has been added to spotify_albums dictionary\n",
      "Album Sick Boy (Special Edition) songs has been added to spotify_albums dictionary\n",
      "Album Sick Boy songs has been added to spotify_albums dictionary\n",
      "Album Memories...Do Not Open songs has been added to spotify_albums dictionary\n",
      "Album The Chainsmokers- Japan Special Edition songs has been added to spotify_albums dictionary\n"
     ]
    }
   ],
   "source": [
    "#Adding to the dictionary\n",
    "spotify_albums = {}\n",
    "album_count = 0\n",
    "for i in album_uris: #each album\n",
    "    albumSongs(i)\n",
    "    print(\"Album \" + str(album_names[album_count]) + \" songs has been added to spotify_albums dictionary\")\n",
    "    album_count+=1 #Updates album count once all tracks have been added"
   ]
  },
  {
   "cell_type": "code",
   "execution_count": 26,
   "metadata": {},
   "outputs": [],
   "source": [
    "#Adding features for the audio\n",
    "def audio_features(album):\n",
    "    #Add new key-values to store audio features\n",
    "    spotify_albums[album]['acousticness'] = []\n",
    "    spotify_albums[album]['danceability'] = []\n",
    "    spotify_albums[album]['energy'] = []\n",
    "    spotify_albums[album]['instrumentalness'] = []\n",
    "    spotify_albums[album]['liveness'] = []\n",
    "    spotify_albums[album]['loudness'] = []\n",
    "    spotify_albums[album]['speechiness'] = []\n",
    "    spotify_albums[album]['tempo'] = []\n",
    "    spotify_albums[album]['valence'] = []\n",
    "    spotify_albums[album]['popularity'] = []\n",
    "    #create a track counter\n",
    "    track_count = 0\n",
    "    for track in spotify_albums[album]['uri']:\n",
    "        #pull audio features per track\n",
    "        features = sp.audio_features(track)\n",
    "        \n",
    "        #Append to relevant key-value\n",
    "        spotify_albums[album]['acousticness'].append(features[0]['acousticness'])\n",
    "        spotify_albums[album]['danceability'].append(features[0]['danceability'])\n",
    "        spotify_albums[album]['energy'].append(features[0]['energy'])\n",
    "        spotify_albums[album]['instrumentalness'].append(features[0]['instrumentalness'])\n",
    "        spotify_albums[album]['liveness'].append(features[0]['liveness'])\n",
    "        spotify_albums[album]['loudness'].append(features[0]['loudness'])\n",
    "        spotify_albums[album]['speechiness'].append(features[0]['speechiness'])\n",
    "        spotify_albums[album]['tempo'].append(features[0]['tempo'])\n",
    "        spotify_albums[album]['valence'].append(features[0]['valence'])\n",
    "        #popularity is stored elsewhere\n",
    "        pop = sp.track(track)\n",
    "        spotify_albums[album]['popularity'].append(pop['popularity'])\n",
    "        track_count+=1"
   ]
  },
  {
   "cell_type": "code",
   "execution_count": 27,
   "metadata": {},
   "outputs": [
    {
     "name": "stdout",
     "output_type": "stream",
     "text": [
      "5 playlists completed\n",
      "Loop #: 5\n",
      "Elapsed Time: 14.099729061126709 seconds\n"
     ]
    }
   ],
   "source": [
    "#The rate import time without going over the limits\n",
    "import time\n",
    "import numpy as np\n",
    "sleep_min = 2\n",
    "sleep_max = 5\n",
    "start_time = time.time()\n",
    "request_count = 0\n",
    "for i in spotify_albums:\n",
    "    audio_features(i)\n",
    "    request_count+=1\n",
    "    if request_count % 5 == 0:\n",
    "        print(str(request_count) + \" playlists completed\")\n",
    "        time.sleep(np.random.uniform(sleep_min, sleep_max))\n",
    "        print('Loop #: {}'.format(request_count))\n",
    "        print('Elapsed Time: {} seconds'.format(time.time() - start_time))"
   ]
  },
  {
   "cell_type": "code",
   "execution_count": 28,
   "metadata": {},
   "outputs": [
    {
     "data": {
      "text/plain": [
       "77"
      ]
     },
     "execution_count": 28,
     "metadata": {},
     "output_type": "execute_result"
    }
   ],
   "source": [
    "# Creating dictionary of variables.\n",
    "dic_df = {}\n",
    "dic_df['album'] = []\n",
    "dic_df['track_number'] = []\n",
    "dic_df['id'] = []\n",
    "dic_df['name'] = []\n",
    "dic_df['uri'] = []\n",
    "dic_df['acousticness'] = []\n",
    "dic_df['danceability'] = []\n",
    "dic_df['energy'] = []\n",
    "dic_df['instrumentalness'] = []\n",
    "dic_df['liveness'] = []\n",
    "dic_df['loudness'] = []\n",
    "dic_df['speechiness'] = []\n",
    "dic_df['tempo'] = []\n",
    "dic_df['valence'] = []\n",
    "dic_df['popularity'] = []\n",
    "for album in spotify_albums: \n",
    "    for feature in spotify_albums[album]:\n",
    "        dic_df[feature].extend(spotify_albums[album][feature])\n",
    "        \n",
    "len(dic_df['album'])"
   ]
  },
  {
   "cell_type": "code",
   "execution_count": 29,
   "metadata": {},
   "outputs": [
    {
     "data": {
      "text/html": [
       "<div>\n",
       "<style scoped>\n",
       "    .dataframe tbody tr th:only-of-type {\n",
       "        vertical-align: middle;\n",
       "    }\n",
       "\n",
       "    .dataframe tbody tr th {\n",
       "        vertical-align: top;\n",
       "    }\n",
       "\n",
       "    .dataframe thead th {\n",
       "        text-align: right;\n",
       "    }\n",
       "</style>\n",
       "<table border=\"1\" class=\"dataframe\">\n",
       "  <thead>\n",
       "    <tr style=\"text-align: right;\">\n",
       "      <th></th>\n",
       "      <th>album</th>\n",
       "      <th>track_number</th>\n",
       "      <th>id</th>\n",
       "      <th>name</th>\n",
       "      <th>uri</th>\n",
       "      <th>acousticness</th>\n",
       "      <th>danceability</th>\n",
       "      <th>energy</th>\n",
       "      <th>instrumentalness</th>\n",
       "      <th>liveness</th>\n",
       "      <th>loudness</th>\n",
       "      <th>speechiness</th>\n",
       "      <th>tempo</th>\n",
       "      <th>valence</th>\n",
       "      <th>popularity</th>\n",
       "    </tr>\n",
       "  </thead>\n",
       "  <tbody>\n",
       "    <tr>\n",
       "      <th>0</th>\n",
       "      <td>World War Joy (Japan Edition)</td>\n",
       "      <td>1</td>\n",
       "      <td>1z12ytybd2liMXldGrit6d</td>\n",
       "      <td>The Reaper (feat. Amy Shark)</td>\n",
       "      <td>spotify:track:1z12ytybd2liMXldGrit6d</td>\n",
       "      <td>0.13500</td>\n",
       "      <td>0.633</td>\n",
       "      <td>0.564</td>\n",
       "      <td>0.0</td>\n",
       "      <td>0.2010</td>\n",
       "      <td>-7.789</td>\n",
       "      <td>0.0701</td>\n",
       "      <td>164.008</td>\n",
       "      <td>0.648</td>\n",
       "      <td>23</td>\n",
       "    </tr>\n",
       "    <tr>\n",
       "      <th>1</th>\n",
       "      <td>World War Joy (Japan Edition)</td>\n",
       "      <td>2</td>\n",
       "      <td>2S303RNiDWIZhWGTz5iIXO</td>\n",
       "      <td>Family</td>\n",
       "      <td>spotify:track:2S303RNiDWIZhWGTz5iIXO</td>\n",
       "      <td>0.42600</td>\n",
       "      <td>0.584</td>\n",
       "      <td>0.607</td>\n",
       "      <td>0.0</td>\n",
       "      <td>0.1010</td>\n",
       "      <td>-6.605</td>\n",
       "      <td>0.0356</td>\n",
       "      <td>117.817</td>\n",
       "      <td>0.374</td>\n",
       "      <td>22</td>\n",
       "    </tr>\n",
       "    <tr>\n",
       "      <th>2</th>\n",
       "      <td>World War Joy (Japan Edition)</td>\n",
       "      <td>3</td>\n",
       "      <td>7M2BekPoY7o3XpEZGdHVA1</td>\n",
       "      <td>See The Way (feat. Sabrina Claudio)</td>\n",
       "      <td>spotify:track:7M2BekPoY7o3XpEZGdHVA1</td>\n",
       "      <td>0.12900</td>\n",
       "      <td>0.558</td>\n",
       "      <td>0.456</td>\n",
       "      <td>0.0</td>\n",
       "      <td>0.1890</td>\n",
       "      <td>-8.118</td>\n",
       "      <td>0.0945</td>\n",
       "      <td>94.851</td>\n",
       "      <td>0.566</td>\n",
       "      <td>22</td>\n",
       "    </tr>\n",
       "    <tr>\n",
       "      <th>3</th>\n",
       "      <td>World War Joy (Japan Edition)</td>\n",
       "      <td>4</td>\n",
       "      <td>0fOiTY8wUM6u4GLGOFKvZs</td>\n",
       "      <td>P.S. I Hope You're Happy (feat. blink-182)</td>\n",
       "      <td>spotify:track:0fOiTY8wUM6u4GLGOFKvZs</td>\n",
       "      <td>0.00883</td>\n",
       "      <td>0.583</td>\n",
       "      <td>0.802</td>\n",
       "      <td>0.0</td>\n",
       "      <td>0.0615</td>\n",
       "      <td>-4.312</td>\n",
       "      <td>0.0367</td>\n",
       "      <td>100.054</td>\n",
       "      <td>0.649</td>\n",
       "      <td>22</td>\n",
       "    </tr>\n",
       "    <tr>\n",
       "      <th>4</th>\n",
       "      <td>World War Joy (Japan Edition)</td>\n",
       "      <td>5</td>\n",
       "      <td>6WrqN1bl4w1IS6keDQ9ipg</td>\n",
       "      <td>Push My Luck</td>\n",
       "      <td>spotify:track:6WrqN1bl4w1IS6keDQ9ipg</td>\n",
       "      <td>0.29300</td>\n",
       "      <td>0.563</td>\n",
       "      <td>0.645</td>\n",
       "      <td>0.0</td>\n",
       "      <td>0.2020</td>\n",
       "      <td>-6.422</td>\n",
       "      <td>0.0428</td>\n",
       "      <td>89.976</td>\n",
       "      <td>0.523</td>\n",
       "      <td>21</td>\n",
       "    </tr>\n",
       "  </tbody>\n",
       "</table>\n",
       "</div>"
      ],
      "text/plain": [
       "                           album  track_number                      id  \\\n",
       "0  World War Joy (Japan Edition)             1  1z12ytybd2liMXldGrit6d   \n",
       "1  World War Joy (Japan Edition)             2  2S303RNiDWIZhWGTz5iIXO   \n",
       "2  World War Joy (Japan Edition)             3  7M2BekPoY7o3XpEZGdHVA1   \n",
       "3  World War Joy (Japan Edition)             4  0fOiTY8wUM6u4GLGOFKvZs   \n",
       "4  World War Joy (Japan Edition)             5  6WrqN1bl4w1IS6keDQ9ipg   \n",
       "\n",
       "                                         name  \\\n",
       "0                The Reaper (feat. Amy Shark)   \n",
       "1                                      Family   \n",
       "2         See The Way (feat. Sabrina Claudio)   \n",
       "3  P.S. I Hope You're Happy (feat. blink-182)   \n",
       "4                                Push My Luck   \n",
       "\n",
       "                                    uri  acousticness  danceability  energy  \\\n",
       "0  spotify:track:1z12ytybd2liMXldGrit6d       0.13500         0.633   0.564   \n",
       "1  spotify:track:2S303RNiDWIZhWGTz5iIXO       0.42600         0.584   0.607   \n",
       "2  spotify:track:7M2BekPoY7o3XpEZGdHVA1       0.12900         0.558   0.456   \n",
       "3  spotify:track:0fOiTY8wUM6u4GLGOFKvZs       0.00883         0.583   0.802   \n",
       "4  spotify:track:6WrqN1bl4w1IS6keDQ9ipg       0.29300         0.563   0.645   \n",
       "\n",
       "   instrumentalness  liveness  loudness  speechiness    tempo  valence  \\\n",
       "0               0.0    0.2010    -7.789       0.0701  164.008    0.648   \n",
       "1               0.0    0.1010    -6.605       0.0356  117.817    0.374   \n",
       "2               0.0    0.1890    -8.118       0.0945   94.851    0.566   \n",
       "3               0.0    0.0615    -4.312       0.0367  100.054    0.649   \n",
       "4               0.0    0.2020    -6.422       0.0428   89.976    0.523   \n",
       "\n",
       "   popularity  \n",
       "0          23  \n",
       "1          22  \n",
       "2          22  \n",
       "3          22  \n",
       "4          21  "
      ]
     },
     "execution_count": 29,
     "metadata": {},
     "output_type": "execute_result"
    }
   ],
   "source": [
    "#creating a dataframe\n",
    "import pandas as pd\n",
    "df = pd.DataFrame.from_dict(dic_df)\n",
    "df.head()"
   ]
  },
  {
   "cell_type": "markdown",
   "metadata": {},
   "source": [
    "###  Transformations"
   ]
  },
  {
   "cell_type": "code",
   "execution_count": 30,
   "metadata": {},
   "outputs": [],
   "source": [
    "## removing the duplicates and cleaning the dataframe\n"
   ]
  },
  {
   "cell_type": "code",
   "execution_count": 31,
   "metadata": {},
   "outputs": [
    {
     "name": "stdout",
     "output_type": "stream",
     "text": [
      "77\n",
      "66\n"
     ]
    }
   ],
   "source": [
    "print(len(df))\n",
    "final_df = df.sort_values('popularity', ascending=False).drop_duplicates('name').sort_index()\n",
    "print(len(final_df))"
   ]
  },
  {
   "cell_type": "code",
   "execution_count": 32,
   "metadata": {},
   "outputs": [
    {
     "data": {
      "text/html": [
       "<div>\n",
       "<style scoped>\n",
       "    .dataframe tbody tr th:only-of-type {\n",
       "        vertical-align: middle;\n",
       "    }\n",
       "\n",
       "    .dataframe tbody tr th {\n",
       "        vertical-align: top;\n",
       "    }\n",
       "\n",
       "    .dataframe thead th {\n",
       "        text-align: right;\n",
       "    }\n",
       "</style>\n",
       "<table border=\"1\" class=\"dataframe\">\n",
       "  <thead>\n",
       "    <tr style=\"text-align: right;\">\n",
       "      <th></th>\n",
       "      <th>album</th>\n",
       "      <th>track_number</th>\n",
       "      <th>id</th>\n",
       "      <th>name</th>\n",
       "      <th>uri</th>\n",
       "      <th>acousticness</th>\n",
       "      <th>danceability</th>\n",
       "      <th>energy</th>\n",
       "      <th>instrumentalness</th>\n",
       "      <th>liveness</th>\n",
       "      <th>loudness</th>\n",
       "      <th>speechiness</th>\n",
       "      <th>tempo</th>\n",
       "      <th>valence</th>\n",
       "      <th>popularity</th>\n",
       "    </tr>\n",
       "  </thead>\n",
       "  <tbody>\n",
       "    <tr>\n",
       "      <th>0</th>\n",
       "      <td>World War Joy (Japan Edition)</td>\n",
       "      <td>1</td>\n",
       "      <td>1z12ytybd2liMXldGrit6d</td>\n",
       "      <td>The Reaper (feat. Amy Shark)</td>\n",
       "      <td>spotify:track:1z12ytybd2liMXldGrit6d</td>\n",
       "      <td>0.13500</td>\n",
       "      <td>0.633</td>\n",
       "      <td>0.564</td>\n",
       "      <td>0.0</td>\n",
       "      <td>0.2010</td>\n",
       "      <td>-7.789</td>\n",
       "      <td>0.0701</td>\n",
       "      <td>164.008</td>\n",
       "      <td>0.648</td>\n",
       "      <td>23</td>\n",
       "    </tr>\n",
       "    <tr>\n",
       "      <th>2</th>\n",
       "      <td>World War Joy (Japan Edition)</td>\n",
       "      <td>3</td>\n",
       "      <td>7M2BekPoY7o3XpEZGdHVA1</td>\n",
       "      <td>See The Way (feat. Sabrina Claudio)</td>\n",
       "      <td>spotify:track:7M2BekPoY7o3XpEZGdHVA1</td>\n",
       "      <td>0.12900</td>\n",
       "      <td>0.558</td>\n",
       "      <td>0.456</td>\n",
       "      <td>0.0</td>\n",
       "      <td>0.1890</td>\n",
       "      <td>-8.118</td>\n",
       "      <td>0.0945</td>\n",
       "      <td>94.851</td>\n",
       "      <td>0.566</td>\n",
       "      <td>22</td>\n",
       "    </tr>\n",
       "    <tr>\n",
       "      <th>3</th>\n",
       "      <td>World War Joy (Japan Edition)</td>\n",
       "      <td>4</td>\n",
       "      <td>0fOiTY8wUM6u4GLGOFKvZs</td>\n",
       "      <td>P.S. I Hope You're Happy (feat. blink-182)</td>\n",
       "      <td>spotify:track:0fOiTY8wUM6u4GLGOFKvZs</td>\n",
       "      <td>0.00883</td>\n",
       "      <td>0.583</td>\n",
       "      <td>0.802</td>\n",
       "      <td>0.0</td>\n",
       "      <td>0.0615</td>\n",
       "      <td>-4.312</td>\n",
       "      <td>0.0367</td>\n",
       "      <td>100.054</td>\n",
       "      <td>0.649</td>\n",
       "      <td>22</td>\n",
       "    </tr>\n",
       "    <tr>\n",
       "      <th>5</th>\n",
       "      <td>World War Joy (Japan Edition)</td>\n",
       "      <td>6</td>\n",
       "      <td>20OHzqdcaEj1678EyTT6qm</td>\n",
       "      <td>Takeaway (feat. Lennon Stella)</td>\n",
       "      <td>spotify:track:20OHzqdcaEj1678EyTT6qm</td>\n",
       "      <td>0.12600</td>\n",
       "      <td>0.528</td>\n",
       "      <td>0.511</td>\n",
       "      <td>0.0</td>\n",
       "      <td>0.1010</td>\n",
       "      <td>-8.144</td>\n",
       "      <td>0.0324</td>\n",
       "      <td>100.100</td>\n",
       "      <td>0.351</td>\n",
       "      <td>21</td>\n",
       "    </tr>\n",
       "    <tr>\n",
       "      <th>6</th>\n",
       "      <td>World War Joy (Japan Edition)</td>\n",
       "      <td>7</td>\n",
       "      <td>5mLCE4b2u3JRMhTKeFUUtu</td>\n",
       "      <td>Call You Mine (feat. Bebe Rexha)</td>\n",
       "      <td>spotify:track:5mLCE4b2u3JRMhTKeFUUtu</td>\n",
       "      <td>0.20400</td>\n",
       "      <td>0.585</td>\n",
       "      <td>0.696</td>\n",
       "      <td>0.0</td>\n",
       "      <td>0.3440</td>\n",
       "      <td>-5.600</td>\n",
       "      <td>0.0307</td>\n",
       "      <td>104.010</td>\n",
       "      <td>0.522</td>\n",
       "      <td>21</td>\n",
       "    </tr>\n",
       "  </tbody>\n",
       "</table>\n",
       "</div>"
      ],
      "text/plain": [
       "                           album  track_number                      id  \\\n",
       "0  World War Joy (Japan Edition)             1  1z12ytybd2liMXldGrit6d   \n",
       "2  World War Joy (Japan Edition)             3  7M2BekPoY7o3XpEZGdHVA1   \n",
       "3  World War Joy (Japan Edition)             4  0fOiTY8wUM6u4GLGOFKvZs   \n",
       "5  World War Joy (Japan Edition)             6  20OHzqdcaEj1678EyTT6qm   \n",
       "6  World War Joy (Japan Edition)             7  5mLCE4b2u3JRMhTKeFUUtu   \n",
       "\n",
       "                                         name  \\\n",
       "0                The Reaper (feat. Amy Shark)   \n",
       "2         See The Way (feat. Sabrina Claudio)   \n",
       "3  P.S. I Hope You're Happy (feat. blink-182)   \n",
       "5              Takeaway (feat. Lennon Stella)   \n",
       "6            Call You Mine (feat. Bebe Rexha)   \n",
       "\n",
       "                                    uri  acousticness  danceability  energy  \\\n",
       "0  spotify:track:1z12ytybd2liMXldGrit6d       0.13500         0.633   0.564   \n",
       "2  spotify:track:7M2BekPoY7o3XpEZGdHVA1       0.12900         0.558   0.456   \n",
       "3  spotify:track:0fOiTY8wUM6u4GLGOFKvZs       0.00883         0.583   0.802   \n",
       "5  spotify:track:20OHzqdcaEj1678EyTT6qm       0.12600         0.528   0.511   \n",
       "6  spotify:track:5mLCE4b2u3JRMhTKeFUUtu       0.20400         0.585   0.696   \n",
       "\n",
       "   instrumentalness  liveness  loudness  speechiness    tempo  valence  \\\n",
       "0               0.0    0.2010    -7.789       0.0701  164.008    0.648   \n",
       "2               0.0    0.1890    -8.118       0.0945   94.851    0.566   \n",
       "3               0.0    0.0615    -4.312       0.0367  100.054    0.649   \n",
       "5               0.0    0.1010    -8.144       0.0324  100.100    0.351   \n",
       "6               0.0    0.3440    -5.600       0.0307  104.010    0.522   \n",
       "\n",
       "   popularity  \n",
       "0          23  \n",
       "2          22  \n",
       "3          22  \n",
       "5          21  \n",
       "6          21  "
      ]
     },
     "execution_count": 32,
     "metadata": {},
     "output_type": "execute_result"
    }
   ],
   "source": [
    "#looking at the data\n",
    "final_df.head()"
   ]
  },
  {
   "cell_type": "code",
   "execution_count": 33,
   "metadata": {},
   "outputs": [],
   "source": [
    "## calculating the descriptive statistics of each quantitative column in the given dataframe"
   ]
  },
  {
   "cell_type": "code",
   "execution_count": 34,
   "metadata": {},
   "outputs": [
    {
     "data": {
      "text/html": [
       "<div>\n",
       "<style scoped>\n",
       "    .dataframe tbody tr th:only-of-type {\n",
       "        vertical-align: middle;\n",
       "    }\n",
       "\n",
       "    .dataframe tbody tr th {\n",
       "        vertical-align: top;\n",
       "    }\n",
       "\n",
       "    .dataframe thead th {\n",
       "        text-align: right;\n",
       "    }\n",
       "</style>\n",
       "<table border=\"1\" class=\"dataframe\">\n",
       "  <thead>\n",
       "    <tr style=\"text-align: right;\">\n",
       "      <th></th>\n",
       "      <th>track_number</th>\n",
       "      <th>acousticness</th>\n",
       "      <th>danceability</th>\n",
       "      <th>energy</th>\n",
       "      <th>instrumentalness</th>\n",
       "      <th>liveness</th>\n",
       "      <th>loudness</th>\n",
       "      <th>speechiness</th>\n",
       "      <th>tempo</th>\n",
       "      <th>valence</th>\n",
       "      <th>popularity</th>\n",
       "    </tr>\n",
       "  </thead>\n",
       "  <tbody>\n",
       "    <tr>\n",
       "      <th>count</th>\n",
       "      <td>66.000000</td>\n",
       "      <td>66.000000</td>\n",
       "      <td>66.000000</td>\n",
       "      <td>66.000000</td>\n",
       "      <td>66.000000</td>\n",
       "      <td>66.000000</td>\n",
       "      <td>66.000000</td>\n",
       "      <td>66.000000</td>\n",
       "      <td>66.000000</td>\n",
       "      <td>66.000000</td>\n",
       "      <td>66.000000</td>\n",
       "    </tr>\n",
       "    <tr>\n",
       "      <th>mean</th>\n",
       "      <td>8.181818</td>\n",
       "      <td>0.114524</td>\n",
       "      <td>0.591212</td>\n",
       "      <td>0.692697</td>\n",
       "      <td>0.001096</td>\n",
       "      <td>0.201279</td>\n",
       "      <td>-6.300333</td>\n",
       "      <td>0.058373</td>\n",
       "      <td>117.937591</td>\n",
       "      <td>0.397552</td>\n",
       "      <td>42.484848</td>\n",
       "    </tr>\n",
       "    <tr>\n",
       "      <th>std</th>\n",
       "      <td>5.745658</td>\n",
       "      <td>0.128172</td>\n",
       "      <td>0.102280</td>\n",
       "      <td>0.150797</td>\n",
       "      <td>0.004754</td>\n",
       "      <td>0.122811</td>\n",
       "      <td>1.935785</td>\n",
       "      <td>0.043704</td>\n",
       "      <td>26.667843</td>\n",
       "      <td>0.162653</td>\n",
       "      <td>25.427570</td>\n",
       "    </tr>\n",
       "    <tr>\n",
       "      <th>min</th>\n",
       "      <td>1.000000</td>\n",
       "      <td>0.000443</td>\n",
       "      <td>0.320000</td>\n",
       "      <td>0.303000</td>\n",
       "      <td>0.000000</td>\n",
       "      <td>0.061500</td>\n",
       "      <td>-11.362000</td>\n",
       "      <td>0.025900</td>\n",
       "      <td>75.168000</td>\n",
       "      <td>0.063700</td>\n",
       "      <td>10.000000</td>\n",
       "    </tr>\n",
       "    <tr>\n",
       "      <th>25%</th>\n",
       "      <td>4.000000</td>\n",
       "      <td>0.014575</td>\n",
       "      <td>0.546000</td>\n",
       "      <td>0.571000</td>\n",
       "      <td>0.000000</td>\n",
       "      <td>0.103250</td>\n",
       "      <td>-7.742250</td>\n",
       "      <td>0.036700</td>\n",
       "      <td>99.992500</td>\n",
       "      <td>0.272250</td>\n",
       "      <td>19.000000</td>\n",
       "    </tr>\n",
       "    <tr>\n",
       "      <th>50%</th>\n",
       "      <td>7.000000</td>\n",
       "      <td>0.060000</td>\n",
       "      <td>0.592000</td>\n",
       "      <td>0.697500</td>\n",
       "      <td>0.000000</td>\n",
       "      <td>0.156000</td>\n",
       "      <td>-6.236000</td>\n",
       "      <td>0.043800</td>\n",
       "      <td>104.975500</td>\n",
       "      <td>0.397000</td>\n",
       "      <td>44.500000</td>\n",
       "    </tr>\n",
       "    <tr>\n",
       "      <th>75%</th>\n",
       "      <td>11.750000</td>\n",
       "      <td>0.155250</td>\n",
       "      <td>0.660500</td>\n",
       "      <td>0.829250</td>\n",
       "      <td>0.000014</td>\n",
       "      <td>0.287750</td>\n",
       "      <td>-4.838750</td>\n",
       "      <td>0.063300</td>\n",
       "      <td>136.959250</td>\n",
       "      <td>0.531750</td>\n",
       "      <td>65.000000</td>\n",
       "    </tr>\n",
       "    <tr>\n",
       "      <th>max</th>\n",
       "      <td>23.000000</td>\n",
       "      <td>0.488000</td>\n",
       "      <td>0.783000</td>\n",
       "      <td>0.941000</td>\n",
       "      <td>0.035800</td>\n",
       "      <td>0.544000</td>\n",
       "      <td>-2.588000</td>\n",
       "      <td>0.312000</td>\n",
       "      <td>203.443000</td>\n",
       "      <td>0.649000</td>\n",
       "      <td>84.000000</td>\n",
       "    </tr>\n",
       "  </tbody>\n",
       "</table>\n",
       "</div>"
      ],
      "text/plain": [
       "       track_number  acousticness  danceability     energy  instrumentalness  \\\n",
       "count     66.000000     66.000000     66.000000  66.000000         66.000000   \n",
       "mean       8.181818      0.114524      0.591212   0.692697          0.001096   \n",
       "std        5.745658      0.128172      0.102280   0.150797          0.004754   \n",
       "min        1.000000      0.000443      0.320000   0.303000          0.000000   \n",
       "25%        4.000000      0.014575      0.546000   0.571000          0.000000   \n",
       "50%        7.000000      0.060000      0.592000   0.697500          0.000000   \n",
       "75%       11.750000      0.155250      0.660500   0.829250          0.000014   \n",
       "max       23.000000      0.488000      0.783000   0.941000          0.035800   \n",
       "\n",
       "        liveness   loudness  speechiness       tempo    valence  popularity  \n",
       "count  66.000000  66.000000    66.000000   66.000000  66.000000   66.000000  \n",
       "mean    0.201279  -6.300333     0.058373  117.937591   0.397552   42.484848  \n",
       "std     0.122811   1.935785     0.043704   26.667843   0.162653   25.427570  \n",
       "min     0.061500 -11.362000     0.025900   75.168000   0.063700   10.000000  \n",
       "25%     0.103250  -7.742250     0.036700   99.992500   0.272250   19.000000  \n",
       "50%     0.156000  -6.236000     0.043800  104.975500   0.397000   44.500000  \n",
       "75%     0.287750  -4.838750     0.063300  136.959250   0.531750   65.000000  \n",
       "max     0.544000  -2.588000     0.312000  203.443000   0.649000   84.000000  "
      ]
     },
     "execution_count": 34,
     "metadata": {},
     "output_type": "execute_result"
    }
   ],
   "source": [
    "final_df.describe()"
   ]
  },
  {
   "cell_type": "code",
   "execution_count": 35,
   "metadata": {},
   "outputs": [
    {
     "data": {
      "text/plain": [
       "album               0\n",
       "track_number        0\n",
       "id                  0\n",
       "name                0\n",
       "uri                 0\n",
       "acousticness        0\n",
       "danceability        0\n",
       "energy              0\n",
       "instrumentalness    0\n",
       "liveness            0\n",
       "loudness            0\n",
       "speechiness         0\n",
       "tempo               0\n",
       "valence             0\n",
       "popularity          0\n",
       "dtype: int64"
      ]
     },
     "execution_count": 35,
     "metadata": {},
     "output_type": "execute_result"
    }
   ],
   "source": [
    "## checking and counting null values in dataframe\n",
    "\n",
    "\n",
    "final_df.isnull().sum()"
   ]
  },
  {
   "cell_type": "markdown",
   "metadata": {},
   "source": [
    "There are no null values in the dataframe created from Spotify through API"
   ]
  },
  {
   "cell_type": "code",
   "execution_count": 36,
   "metadata": {},
   "outputs": [],
   "source": [
    "## Bar plot of different tracks name and their popularity"
   ]
  },
  {
   "cell_type": "code",
   "execution_count": 37,
   "metadata": {},
   "outputs": [
    {
     "data": {
      "text/plain": [
       "<matplotlib.axes._subplots.AxesSubplot at 0x1bc02244240>"
      ]
     },
     "execution_count": 37,
     "metadata": {},
     "output_type": "execute_result"
    },
    {
     "data": {
      "image/png": "[encoded data removed]",
      "text/plain": [
       "<Figure size 2160x2160 with 1 Axes>"
      ]
     },
     "metadata": {
      "needs_background": "light"
     },
     "output_type": "display_data"
    }
   ],
   "source": [
    "final_df.plot.bar(x='name', y='popularity', rot=90,figsize=(30,30))\n"
   ]
  },
  {
   "cell_type": "code",
   "execution_count": 38,
   "metadata": {},
   "outputs": [
    {
     "data": {
      "text/plain": [
       "(77, 15)"
      ]
     },
     "execution_count": 38,
     "metadata": {},
     "output_type": "execute_result"
    }
   ],
   "source": [
    "#Demonstrating the 15 variables\n",
    "df.shape"
   ]
  }
 ],
 "metadata": {
  "kernelspec": {
   "display_name": "Python 3",
   "language": "python",
   "name": "python3"
  },
  "language_info": {
   "codemirror_mode": {
    "name": "ipython",
    "version": 3
   },
   "file_extension": ".py",
   "mimetype": "text/x-python",
   "name": "python",
   "nbconvert_exporter": "python",
   "pygments_lexer": "ipython3",
   "version": "3.7.3"
  }
 },
 "nbformat": 4,
 "nbformat_minor": 2
}
